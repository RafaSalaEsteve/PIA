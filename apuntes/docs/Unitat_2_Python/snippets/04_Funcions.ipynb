{
 "cells": [
  {
   "cell_type": "code",
   "execution_count": 3,
   "metadata": {},
   "outputs": [
    {
     "name": "stdout",
     "output_type": "stream",
     "text": [
      "7\n"
     ]
    }
   ],
   "source": [
    "def sumar(x,y):\n",
    "    return x+y\n",
    "\n",
    "a=3\n",
    "b=4\n",
    "print(sumar(a,b))"
   ]
  },
  {
   "cell_type": "code",
   "execution_count": 4,
   "metadata": {},
   "outputs": [
    {
     "name": "stdout",
     "output_type": "stream",
     "text": [
      "a=3 y b=4 y la suma es 8\n"
     ]
    }
   ],
   "source": [
    "def sumar2(x,y):\n",
    "    x=x+1\n",
    "    return x+y\n",
    "\n",
    "a=3\n",
    "b=4\n",
    "print(\"a={} y b={} y la suma es {}\".format(a,b,sumar2(a,b)))"
   ]
  },
  {
   "cell_type": "code",
   "execution_count": 5,
   "metadata": {},
   "outputs": [
    {
     "name": "stdout",
     "output_type": "stream",
     "text": [
      "El volumn de 10x20x30=6000\n",
      "El volumn de 50x60x70=210000\n",
      "El volumn de 10x50x30=15000\n"
     ]
    },
    {
     "ename": "TypeError",
     "evalue": "volum() got multiple values for argument 'alt'",
     "output_type": "error",
     "traceback": [
      "\u001b[0;31m---------------------------------------------------------------------------\u001b[0m",
      "\u001b[0;31mTypeError\u001b[0m                                 Traceback (most recent call last)",
      "\u001b[1;32m/Users/joange/Documents/PIA_Jaume_23_24/md/U02 Python/exercicis/04_Funcions.ipynb Celda 3\u001b[0m line \u001b[0;36m7\n\u001b[1;32m      <a href='vscode-notebook-cell:/Users/joange/Documents/PIA_Jaume_23_24/md/U02%20Python/exercicis/04_Funcions.ipynb#W2sZmlsZQ%3D%3D?line=4'>5</a>\u001b[0m volum(\u001b[39m50\u001b[39m,\u001b[39m60\u001b[39m,\u001b[39m70\u001b[39m)\n\u001b[1;32m      <a href='vscode-notebook-cell:/Users/joange/Documents/PIA_Jaume_23_24/md/U02%20Python/exercicis/04_Funcions.ipynb#W2sZmlsZQ%3D%3D?line=5'>6</a>\u001b[0m volum(ample\u001b[39m=\u001b[39m\u001b[39m50\u001b[39m)\n\u001b[0;32m----> <a href='vscode-notebook-cell:/Users/joange/Documents/PIA_Jaume_23_24/md/U02%20Python/exercicis/04_Funcions.ipynb#W2sZmlsZQ%3D%3D?line=6'>7</a>\u001b[0m volum(\u001b[39m40\u001b[39;49m,fons\u001b[39m=\u001b[39;49m\u001b[39m10\u001b[39;49m,alt\u001b[39m=\u001b[39;49m\u001b[39m20\u001b[39;49m)\n",
      "\u001b[0;31mTypeError\u001b[0m: volum() got multiple values for argument 'alt'"
     ]
    }
   ],
   "source": [
    "def volum(alt=10,ample=20,fons=30):\n",
    "    print(\"El volumn de {}x{}x{}={}\".format(alt,ample,fons,alt*ample*fons))\n",
    "          \n",
    "volum()\n",
    "volum(50,60,70)\n",
    "volum(ample=50)\n",
    "volum(40,fons=10,alt=20)"
   ]
  },
  {
   "cell_type": "code",
   "execution_count": 6,
   "metadata": {},
   "outputs": [
    {
     "name": "stdout",
     "output_type": "stream",
     "text": [
      "5\n",
      "19\n",
      "0\n"
     ]
    }
   ],
   "source": [
    "def sumaMolts(*args):\n",
    "    sum=0\n",
    "    for num in args:\n",
    "        sum+=num\n",
    "    return sum\n",
    "\n",
    "print(sumaMolts(5))\n",
    "print(sumaMolts(5,5,2,7))\n",
    "print(sumaMolts())"
   ]
  },
  {
   "cell_type": "code",
   "execution_count": 11,
   "metadata": {},
   "outputs": [
    {
     "name": "stdout",
     "output_type": "stream",
     "text": [
      "<class 'dict'>\n",
      "v1 - hola\n",
      "v2 - 35.56\n",
      "v3 - True\n",
      "v4 - None\n",
      "v5 - text\n",
      "{'v1': 'hola', 'v2': 35.56, 'v3': True, 'v4': None, 'v5': 'text'}\n"
     ]
    }
   ],
   "source": [
    "import pprint as pp\n",
    "def coleccion(**elements):\n",
    "    print(type(elements))\n",
    "    for elem in elements:\n",
    "        print(elem,\"-\",elements[elem])\n",
    "    pp.pprint(elements)\n",
    "\n",
    "coleccion(v1=\"hola\",v2=35.56,v3=True,v4=None,v5='text')"
   ]
  },
  {
   "cell_type": "code",
   "execution_count": 12,
   "metadata": {},
   "outputs": [
    {
     "name": "stdout",
     "output_type": "stream",
     "text": [
      "20\n",
      "9\n",
      "HolaPepe\n"
     ]
    },
    {
     "ename": "TypeError",
     "evalue": "can't multiply sequence by non-int of type 'str'",
     "output_type": "error",
     "traceback": [
      "\u001b[0;31m---------------------------------------------------------------------------\u001b[0m",
      "\u001b[0;31mTypeError\u001b[0m                                 Traceback (most recent call last)",
      "\u001b[1;32m/Users/joange/Documents/PIA_Jaume_23_24/md/U02 Python/exercicis/04_Funcions.ipynb Celda 6\u001b[0m line \u001b[0;36m1\n\u001b[1;32m      <a href='vscode-notebook-cell:/Users/joange/Documents/PIA_Jaume_23_24/md/U02%20Python/exercicis/04_Funcions.ipynb#W5sZmlsZQ%3D%3D?line=7'>8</a>\u001b[0m suma(\u001b[39m4\u001b[39m,\u001b[39m5\u001b[39m)\n\u001b[1;32m     <a href='vscode-notebook-cell:/Users/joange/Documents/PIA_Jaume_23_24/md/U02%20Python/exercicis/04_Funcions.ipynb#W5sZmlsZQ%3D%3D?line=9'>10</a>\u001b[0m suma(\u001b[39m\"\u001b[39m\u001b[39mHola\u001b[39m\u001b[39m\"\u001b[39m,\u001b[39m\"\u001b[39m\u001b[39mPepe\u001b[39m\u001b[39m\"\u001b[39m)\n\u001b[0;32m---> <a href='vscode-notebook-cell:/Users/joange/Documents/PIA_Jaume_23_24/md/U02%20Python/exercicis/04_Funcions.ipynb#W5sZmlsZQ%3D%3D?line=10'>11</a>\u001b[0m mult(\u001b[39m\"\u001b[39;49m\u001b[39mHola\u001b[39;49m\u001b[39m\"\u001b[39;49m,\u001b[39m\"\u001b[39;49m\u001b[39mPepe\u001b[39;49m\u001b[39m\"\u001b[39;49m)\n",
      "\u001b[1;32m/Users/joange/Documents/PIA_Jaume_23_24/md/U02 Python/exercicis/04_Funcions.ipynb Celda 6\u001b[0m line \u001b[0;36m2\n\u001b[1;32m      <a href='vscode-notebook-cell:/Users/joange/Documents/PIA_Jaume_23_24/md/U02%20Python/exercicis/04_Funcions.ipynb#W5sZmlsZQ%3D%3D?line=0'>1</a>\u001b[0m \u001b[39mdef\u001b[39;00m \u001b[39mmult\u001b[39m(a:\u001b[39mint\u001b[39m,b:\u001b[39mint\u001b[39m):\n\u001b[0;32m----> <a href='vscode-notebook-cell:/Users/joange/Documents/PIA_Jaume_23_24/md/U02%20Python/exercicis/04_Funcions.ipynb#W5sZmlsZQ%3D%3D?line=1'>2</a>\u001b[0m     \u001b[39mprint\u001b[39m(a\u001b[39m*\u001b[39;49mb)\n",
      "\u001b[0;31mTypeError\u001b[0m: can't multiply sequence by non-int of type 'str'"
     ]
    }
   ],
   "source": [
    "def mult(a:int,b:int):\n",
    "    print(a*b)\n",
    "\n",
    "def suma(a,b):\n",
    "    print(a+b)\n",
    "\n",
    "mult(4,5)\n",
    "suma(4,5)\n",
    "\n",
    "suma(\"Hola\",\"Pepe\")\n",
    "mult(\"Hola\",\"Pepe\")"
   ]
  }
 ],
 "metadata": {
  "kernelspec": {
   "display_name": "base",
   "language": "python",
   "name": "python3"
  },
  "language_info": {
   "codemirror_mode": {
    "name": "ipython",
    "version": 3
   },
   "file_extension": ".py",
   "mimetype": "text/x-python",
   "name": "python",
   "nbconvert_exporter": "python",
   "pygments_lexer": "ipython3",
   "version": "3.10.10"
  },
  "orig_nbformat": 4
 },
 "nbformat": 4,
 "nbformat_minor": 2
}

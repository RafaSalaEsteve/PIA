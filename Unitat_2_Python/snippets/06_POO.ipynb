{
 "cells": [
  {
   "cell_type": "markdown",
   "metadata": {},
   "source": [
    "### Exemple de la classe `Alumne`"
   ]
  },
  {
   "cell_type": "code",
   "execution_count": null,
   "metadata": {},
   "outputs": [],
   "source": [
    "class Alumne:\n",
    "  def __init__(self):\n",
    "    self.nom=\"Pere\"\n",
    "    self.edat=22\n",
    "\n",
    "  def saludar(self):\n",
    "    print(\"Hola, soc\",self.nom)\n",
    "\n",
    "a=Alumne()      # creem el objecte. \n",
    "a.saludar();"
   ]
  },
  {
   "cell_type": "markdown",
   "metadata": {},
   "source": [
    "#### Exemple d'`Alumne` amb constructor general"
   ]
  },
  {
   "cell_type": "code",
   "execution_count": null,
   "metadata": {},
   "outputs": [],
   "source": [
    "class Alumne:\n",
    "  def __init__(self,nom=\"anònim\"):\n",
    "    self.nom=nom\n",
    "    self.edat=22\n",
    "\n",
    "  def saludar(self):\n",
    "    print(\"Hola, soc\",self.nom)\n",
    "\n",
    "a=Alumne()      # creem el objecte per defete. \n",
    "a.saludar()\n",
    "\n",
    "b=Alumne(\"Pere\")      # creem el objecte per defete. \n",
    "b.saludar()"
   ]
  },
  {
   "cell_type": "markdown",
   "metadata": {},
   "source": [
    "#### Visibilitat dels atributs"
   ]
  },
  {
   "cell_type": "code",
   "execution_count": null,
   "metadata": {},
   "outputs": [],
   "source": [
    "class Empleat():\n",
    "\n",
    "    def __init__(self,nom,edat,salari):\n",
    "        self.nom=nom\n",
    "        self._edat=edat\n",
    "        self.__salari=salari\n",
    "\n",
    "emple=Empleat(\"Pere\",42,1230)\n",
    "\n",
    "print(\"El nom es\",emple.nom)\n",
    "print(\"Edat es\",emple._edat)\n",
    "print(\"El salari és\",emple.__salari)"
   ]
  },
  {
   "cell_type": "markdown",
   "metadata": {},
   "source": [
    "#### Getters\n",
    "Els `setters` queden proposats"
   ]
  },
  {
   "cell_type": "code",
   "execution_count": null,
   "metadata": {},
   "outputs": [],
   "source": [
    "class Empleat():\n",
    "\n",
    "    def __init__(self,nom,edat,salari):\n",
    "        self.__nom=nom\n",
    "        self.__edat=edat\n",
    "        self.__salari=salari\n",
    "    \n",
    "    def getNom(self):\n",
    "        return self.__nom\n",
    "    \n",
    "    def getEdat(self):\n",
    "        return self.__edat\n",
    "    \n",
    "    def getSalari(self):\n",
    "        return self.__salari\n",
    "\n",
    "emple=Empleat(\"Pere\",42,1230)\n",
    "\n",
    "print(\"El nom es\",emple.getNom())\n",
    "print(\"Edat es\",emple.getEdat())\n",
    "print(\"El salari és\",emple.getSalari())"
   ]
  },
  {
   "cell_type": "markdown",
   "metadata": {},
   "source": [
    "#### Sobrecàrrega de mètodes importants"
   ]
  },
  {
   "cell_type": "code",
   "execution_count": null,
   "metadata": {},
   "outputs": [],
   "source": [
    "class Empleat():\n",
    "\n",
    "    def __init__(self,nom,edat,salari):\n",
    "        self.__nom=nom\n",
    "        self.__edat=edat\n",
    "        self.__salari=salari\n",
    "    \n",
    "    def getNom(self):\n",
    "        return self.__nom\n",
    "    \n",
    "    def getEdat(self):\n",
    "        return self.__edat\n",
    "    \n",
    "    def getSalari(self):\n",
    "        return self.__salari\n",
    "    \n",
    "    def __eq__(self, other: object) -> bool:\n",
    "        return self.__edat==other.__edat and self.__nom==other.__nom and self.__salari==other.__salari\n",
    "    \n",
    "    def __str__(self) -> str:\n",
    "#        return self.__nom + \" te \" + str(self.__edat) + \" i guanya \" + str(self.__salari) + \" euros\"\n",
    "        return f'{self.__nom} te {self.__edat} i guanya {self.__salari} euros'\n",
    "\n",
    "emple=Empleat(\"Pere\",42,1230)\n",
    "emple2=Empleat(\"Pere\",42,1230)\n",
    "\n",
    "print(emple==emple2)\n",
    "print(emple is emple2)\n",
    "\n",
    "print(str(emple))\n",
    "print(emple)\n",
    "print(repr(emple))"
   ]
  },
  {
   "cell_type": "markdown",
   "metadata": {},
   "source": [
    "#### Herència"
   ]
  },
  {
   "cell_type": "code",
   "execution_count": null,
   "metadata": {},
   "outputs": [],
   "source": [
    "class Comercial(Empleat):\n",
    "    def __init__(self,nom,edat,salari,comisio):\n",
    "        # Empleat.__init__(self,nom,edat,salari)  # Primera opció, amb self\n",
    "        super().__init__(nom,edat,salari)         # segona amb super() i sense self\n",
    "        self.__comisio=comisio\n",
    "    \n",
    "    def __str__(self):\n",
    "       sou= self.getSalari() + self.__comisio\n",
    "       return f'{self.getNom()} te {self.getEdat()} i guanya {sou} euros'\n",
    "\n",
    "\n",
    "comercial=Comercial(\"Joange\",46,1200,300)\n",
    "\n",
    "print(comercial)\n"
   ]
  },
  {
   "cell_type": "markdown",
   "metadata": {},
   "source": [
    "## Les series\n",
    "Crear una classe per a guardar informació al voltant d'una `Serie` de televisió. La sèrie contindrà: nom, nacionalitat, puntuació i numero de temporades. Ademés volem saber quants capítols te cadascuna de les temporades (però aquestes dades no es passaran al constructor) Els numeros de capitols per temporada deurà ser un vector. Es demana:\n",
    "    \n",
    "  - Disseny bàsic de la serie\n",
    "  -\tCreació dels constructor\n",
    "  - Creació d'un mètode `afegirTemporada(n)` que afig una nova temporada a la serie\n",
    "  - Creació d'un mètode `modificarPuntuació(x)` que actualitza la puntuació de la serie\n",
    "  -\tCreació d’un mètode que retorne el numero mitja de capítols per temporada \n",
    "  - Creació de mètodes per a comparar quan dos series son iguals"
   ]
  },
  {
   "cell_type": "code",
   "execution_count": null,
   "metadata": {},
   "outputs": [],
   "source": [
    "class Serie:\n",
    "    pass\n",
    "\n",
    "    def __init__(self):\n",
    "        pass\n",
    "    \n",
    "    def afegirTemporada(self,n):\n",
    "        pass\n",
    "    \n",
    "    def modificarPuntuacio(self,x):\n",
    "        pass\n",
    "\n",
    "    def mitjanaCapitols(self):\n",
    "        pass"
   ]
  },
  {
   "cell_type": "markdown",
   "metadata": {},
   "source": []
  }
 ],
 "metadata": {
  "kernelspec": {
   "display_name": "base",
   "language": "python",
   "name": "python3"
  },
  "language_info": {
   "codemirror_mode": {
    "name": "ipython",
    "version": 3
   },
   "file_extension": ".py",
   "mimetype": "text/x-python",
   "name": "python",
   "nbconvert_exporter": "python",
   "pygments_lexer": "ipython3",
   "version": "3.10.10"
  },
  "orig_nbformat": 4
 },
 "nbformat": 4,
 "nbformat_minor": 2
}

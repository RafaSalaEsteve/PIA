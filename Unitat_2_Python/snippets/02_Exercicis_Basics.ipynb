{
 "cells": [
  {
   "cell_type": "markdown",
   "metadata": {},
   "source": [
    "# Exercici de variables\n",
    "\n",
    "- Crea 2 variables booleanes una amb el valor verdader i una altra amb el valor fals.\n",
    "- Crea una variable de tipus String amb un nombre i la transformes en un int.\n",
    "- Crea una variable de tipus String amb un nombre i la transformes en un float.\n",
    "- Crea una variable de tipus int i la transformes en un float.\n",
    "- Crea una variable de tipus int i la transformes en un String.\n",
    "- Crea una variable de tipus float i la transformes en un String.\n",
    "- Crea una variable de tipus float i la transformes en un int. La funció arrodoneix o trunca?"
   ]
  },
  {
   "cell_type": "code",
   "execution_count": null,
   "metadata": {},
   "outputs": [],
   "source": [
    "# Solució a l'exercici de variables\n"
   ]
  },
  {
   "cell_type": "markdown",
   "metadata": {},
   "source": [
    "# Operadors\n",
    "\n",
    "- Fes divisió amb decimals de 7/4\n",
    "- Fes la divisió entera de 7/4\n",
    "- Calcula el residu de 7/4\n",
    "- Calcula $2^{16}$"
   ]
  },
  {
   "cell_type": "code",
   "execution_count": null,
   "metadata": {},
   "outputs": [],
   "source": [
    "# Solució a l'exercici d'operadors\n",
    "\n"
   ]
  },
  {
   "attachments": {},
   "cell_type": "markdown",
   "metadata": {},
   "source": [
    "## Exercici 1\n",
    "\n",
    "Fes un programa que pregunte quants anys té algú i que mostre per pantalla la quantitat d’anys que falten per a la majoria d’edat i per a jubilar-se.\n",
    "\n"
   ]
  },
  {
   "cell_type": "code",
   "execution_count": null,
   "metadata": {},
   "outputs": [],
   "source": [
    "# Completa ací el teu codi\n"
   ]
  },
  {
   "attachments": {},
   "cell_type": "markdown",
   "metadata": {},
   "source": [
    "## Exercici 2 \n",
    "\n",
    "Fer un programa que pregunte per la base i l’altura d’un triangle i mostre per pantalla l’àrea d’eixe triangle."
   ]
  },
  {
   "cell_type": "code",
   "execution_count": null,
   "metadata": {},
   "outputs": [],
   "source": [
    "# Completa ací el teu codi\n"
   ]
  },
  {
   "attachments": {},
   "cell_type": "markdown",
   "metadata": {},
   "source": [
    "## Exercici 3\n",
    "\n",
    "A partir d'aques programa en el qual hem escrit els blancs per a formatar el text, escriu-lo per a aconseguir el mateix per pantalla però fent servir les funcions estudiades al tema\n",
    "\n",
    "```python\n",
    "print(\"Llibre                                                       Autor\")\n",
    "print(\"El Quijote                                                   Cervantes\")\n",
    "print(\"Harry Potter y las Reliquias de la muerte                    HK Rowling\")\n",
    "print(\"Carlos en tu cocina                                          Carlos Arguiñano\")\n",
    "```\n",
    "\n"
   ]
  },
  {
   "cell_type": "code",
   "execution_count": null,
   "metadata": {},
   "outputs": [],
   "source": [
    "# Completa ací el teu codi"
   ]
  },
  {
   "attachments": {},
   "cell_type": "markdown",
   "metadata": {},
   "source": [
    "## Exercici 4\n",
    "\n",
    "A partir del llistat de numeros que tens a continuació, imprimir-los ordenats pel punt decimal i amb dos decimals, tal i com es veu a continuació\n",
    "\n",
    "```\n",
    "ORIGINAL        FORMATAT\n",
    "23.453             23.45\n",
    "2.324               2.32\n",
    "154               154.00\n",
    "23142.253       23142.25  \n",
    "53.0000343         53.00"
   ]
  },
  {
   "cell_type": "code",
   "execution_count": null,
   "metadata": {},
   "outputs": [],
   "source": [
    "# Completa ací el teu codi"
   ]
  }
 ],
 "metadata": {
  "kernelspec": {
   "display_name": "base",
   "language": "python",
   "name": "python3"
  },
  "language_info": {
   "codemirror_mode": {
    "name": "ipython",
    "version": 3
   },
   "file_extension": ".py",
   "mimetype": "text/x-python",
   "name": "python",
   "nbconvert_exporter": "python",
   "pygments_lexer": "ipython3",
   "version": "3.10.10"
  },
  "orig_nbformat": 4
 },
 "nbformat": 4,
 "nbformat_minor": 2
}

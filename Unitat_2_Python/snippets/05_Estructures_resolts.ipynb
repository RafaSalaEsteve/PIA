{
 "cells": [
  {
   "cell_type": "markdown",
   "metadata": {},
   "source": [
    "# Exercici 1\n",
    "\n",
    "- Crea una array amb els següents nombres primers i imprimeix el quart número: 2, 3, 5, 7, 11, 13, 17, 19, 23, 29\n",
    "- Calcula la longitud de l'anterior array\n",
    "- Calcula la suma dels elements de l'anterior array\n",
    "- Afegeix a l'array l'element 97\n",
    "- Crea una tupla amb els números primers i imprimeix el quart número: 2, 3, 5, 7, 11, 13, 17, 19, 23, 29\n",
    "- Afegeix a la tupla l'element 97. Per què no et deixa?\n",
    "- Crea un array que sigui la unió dels elements dels dos arrays següents 1,2,3,4 i 10,20,30,40. Hauràs de fer servir un bucle for.\n",
    "- Afegeix a l'array 1,2,3,4 el següent array 10,20,30,40, però com si fos un únic element usant una sola vegada append.\n",
    "  - Veieu la diferència amb l'exercici anterior?"
   ]
  },
  {
   "cell_type": "code",
   "execution_count": null,
   "metadata": {},
   "outputs": [],
   "source": [
    "# Solució a l'exercici\n",
    "\n",
    "array=[2, 3, 5, 7, 11, 13, 17, 19, 23, 29]\n",
    "print(array)\n",
    "print(type(array))\n",
    "\n",
    "print(f'La longitud és {len(array)}')\n",
    "print(f'La suma dels element és {sum(array)}')\n",
    "\n",
    "array.append(97)\n",
    "print(array)\n",
    "\n",
    "tupla=(2, 3, 5, 7, 11, 13, 17, 19, 23, 29)\n",
    "print(tupla)\n",
    "print(type(tupla))\n",
    "\n",
    "# tupla.append(97) Error. la tupla és immutable\n",
    "\n",
    "a1=[1,2,3,4]\n",
    "a2=[10,20,30,40]\n",
    "\n",
    "fusion=[]\n",
    "\n",
    "for elem in a1:\n",
    "  fusion.append(elem)\n",
    "for elem in a2:\n",
    "  fusion.append(elem)\n",
    "\n",
    "print(fusion)\n",
    "\n",
    "fusion2=[]\n",
    "fusion2.append(a1)\n",
    "fusion2.append(a2)\n",
    "\n",
    "print(fusion2)\n",
    "\n",
    "fusion3=a1+a2\n",
    "print(fusion3)\n",
    "\n"
   ]
  },
  {
   "attachments": {},
   "cell_type": "markdown",
   "metadata": {},
   "source": [
    "# Exercici 2\n",
    "\n",
    "Es demana fer:\n",
    "  - Crea una llista amb un conjunt de noms.\n",
    "  - Afig un nou nom al final\n",
    "  - Afig un nou nom al principi\n",
    "  - Modifica el tercer nom (posició 2) a \"Ariel\"\n",
    "  - Imprimeix tots els noms:\n",
    "    - Amb un for compacte o `foreach`\n",
    "    - Amb un for clàssic"
   ]
  },
  {
   "cell_type": "code",
   "execution_count": null,
   "metadata": {},
   "outputs": [],
   "source": [
    "# Solució Exercici 2\n",
    "noms=[\"Pepe\",\"Anna\",\"Joan\",\"Carme\"]\n",
    "noms.append(\"Lluis\")\n",
    "noms.insert(0,\"Jaume\")\n",
    "print(noms)\n",
    "noms[2]=\"Ariel\"\n",
    "print(noms)\n",
    "\n",
    "for nom in noms:\n",
    "    print(nom)\n",
    "\n",
    "for i in range(len(noms)):\n",
    "    print(noms[i])    "
   ]
  },
  {
   "attachments": {},
   "cell_type": "markdown",
   "metadata": {},
   "source": [
    "# Exercici 3\n",
    "\n",
    "Fer una funció que rep una llista u un element, i elimina l'element de la llista sols si existeix en ella."
   ]
  },
  {
   "cell_type": "code",
   "execution_count": null,
   "metadata": {},
   "outputs": [],
   "source": [
    "# Solució Exercici 3\n",
    "def borrar(llista, element):\n",
    "    if element in llista:\n",
    "        llista.remove(element)\n",
    "        print(element,\"esborrat\")\n",
    "\n",
    "borrar(noms,\"Gerard\")\n",
    "borrar(noms,\"Anna\")\n",
    "\n",
    "print(noms)\n",
    "\n",
    "noms.sort(reverse=True)\n",
    "print(noms)"
   ]
  },
  {
   "cell_type": "code",
   "execution_count": null,
   "metadata": {},
   "outputs": [],
   "source": [
    "# Exemple dels apunts\n",
    "\n",
    "nba=[]\n",
    "data=open('nba.txt','r').read()\n",
    "nba=data.split('\\n')\n",
    "print(nba)\n",
    "print(len(nba))\n",
    "\n",
    "print(nba[2:5]) # mostra de la casella 2 a la 4 (última-1)\n",
    "print(nba[2:])  # mostra de la casella 2 al final\n",
    "print(nba[:5])  # mostra fins la casella 4 (última -1)\n",
    "print(nba[-1:]) # mostra l'últim\n",
    "print(nba[-3:]) # mostra els 3 últims\n",
    "print(nba[-5:-3]) # Mostra des de el 5t per la dreta al tercer per la dreta\n"
   ]
  },
  {
   "cell_type": "code",
   "execution_count": null,
   "metadata": {},
   "outputs": [],
   "source": [
    "# Exemple dels apunts\n",
    "\n",
    "telefons={'Pere':123456,'Ana':7483943,'Joan':None}\n",
    "\n",
    "print(telefons['Ana'])      \n",
    "\n",
    "#print(telefons['Pau'])  #Excepció `KeyError``\n",
    "\n",
    "print(telefons.get('Pau'))  # Com no esta torna None, però no dona error\n",
    "\n",
    "del(telefons['Ana'])      #Elimina la entrada del diccionari\n",
    "print(telefons)\n",
    "\n",
    "noms = ['Xavi', 'Elisa', 'MAria']\n",
    "telefons = dict.fromkeys(noms, None)  # Aquestes son les claus, sense valors\n",
    "print(telefons)\n",
    "#{'Xavi': None, 'Elisa': None, 'MAria': None}\n",
    "\n",
    "print('Xavi' in telefons)\n",
    "\n",
    "# Crear a partir de un json\n",
    "import json\n",
    "jsonstring = '{ \"nom\": \"erik\", \"edat\": 38, \"casat\": true}'\n",
    "persona=json.loads(jsonstring)\n",
    "print(persona)\n",
    "\n",
    "# recuperar les claus i els valors per separat\n",
    "print(persona.keys())\n",
    "print(persona.values())\n",
    "\n",
    "# recuperar els elements\n",
    "for clau,valor in persona.items():\n",
    "    print(clau,\"-\",valor)"
   ]
  }
 ],
 "metadata": {
  "kernelspec": {
   "display_name": "base",
   "language": "python",
   "name": "python3"
  },
  "language_info": {
   "codemirror_mode": {
    "name": "ipython",
    "version": 3
   },
   "file_extension": ".py",
   "mimetype": "text/x-python",
   "name": "python",
   "nbconvert_exporter": "python",
   "pygments_lexer": "ipython3",
   "version": "3.10.10"
  },
  "orig_nbformat": 4
 },
 "nbformat": 4,
 "nbformat_minor": 2
}

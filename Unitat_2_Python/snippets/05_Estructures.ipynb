{
 "cells": [
  {
   "cell_type": "markdown",
   "metadata": {},
   "source": [
    "# Exercici 1\n",
    "\n",
    "- Crea una array amb els següents nombres primers i imprimeix el quart número: 2, 3, 5, 7, 11, 13, 17, 19, 23, 29\n",
    "- Calcula la longitud de l'anterior array\n",
    "- Calcula la suma dels elements de l'anterior array\n",
    "- Afegeix a l'array l'element 97\n",
    "- Crea una tupla amb els números primers i imprimeix el quart número: 2, 3, 5, 7, 11, 13, 17, 19, 23, 29\n",
    "- Afegeix a la tupla l'element 97. Per què no et deixa?\n",
    "- Crea un array que sigui la unió dels elements dels dos arrays següents 1,2,3,4 i 10,20,30,40. Hauràs de fer servir un bucle for.\n",
    "- Afegeix a l'array 1,2,3,4 el següent array 10,20,30,40, però com si fos un únic element usant una sola vegada append.\n",
    "  - Veieu la diferència amb l'exercici anterior?"
   ]
  },
  {
   "cell_type": "code",
   "execution_count": null,
   "metadata": {},
   "outputs": [],
   "source": [
    "# Solució a l'exercici\n"
   ]
  },
  {
   "attachments": {},
   "cell_type": "markdown",
   "metadata": {},
   "source": [
    "# Exercici 2\n",
    "\n",
    "Es demana fer:\n",
    "  - Crea una llista amb un conjunt de noms.\n",
    "  - Afig un nou nom al final\n",
    "  - Afig un nou nom al principi\n",
    "  - Modifica el tercer nom (posició 2) a \"Ariel\"\n",
    "  - Imprimeix tots els noms:\n",
    "    - Amb un for compacte o `foreach`\n",
    "    - Amb un for clàssic"
   ]
  },
  {
   "cell_type": "code",
   "execution_count": null,
   "metadata": {},
   "outputs": [],
   "source": [
    "# Solució Exercici 2"
   ]
  },
  {
   "attachments": {},
   "cell_type": "markdown",
   "metadata": {},
   "source": [
    "# Exercici 3\n",
    "\n",
    "Fer una funció que rep una llista u un element, i elimina l'element de la llista sols si existeix en ella."
   ]
  },
  {
   "cell_type": "code",
   "execution_count": null,
   "metadata": {},
   "outputs": [],
   "source": [
    "# Solució Exercici 3\n"
   ]
  },
  {
   "cell_type": "code",
   "execution_count": null,
   "metadata": {},
   "outputs": [],
   "source": [
    "# Exemple dels apunts\n",
    "\n",
    "nba=[]\n",
    "data=open('nba.txt','r').read()\n",
    "nba=data.split('\\n')\n",
    "print(nba)\n",
    "print(len(nba))\n",
    "\n",
    "print(nba[2:5]) # mostra de la casella 2 a la 4 (última-1)\n",
    "print(nba[2:])  # mostra de la casella 2 al final\n",
    "print(nba[:5])  # mostra fins la casella 4 (última -1)\n",
    "print(nba[-1:]) # mostra l'últim\n",
    "print(nba[-3:]) # mostra els 3 últims\n",
    "print(nba[-5:-3]) # Mostra des de el 5t per la dreta al tercer per la dreta\n"
   ]
  },
  {
   "cell_type": "code",
   "execution_count": null,
   "metadata": {},
   "outputs": [],
   "source": [
    "# Exemple dels apunts\n",
    "\n",
    "telefons={'Pere':123456,'Ana':7483943,'Joan':None}\n",
    "\n",
    "print(telefons['Ana'])      \n",
    "\n",
    "#print(telefons['Pau'])  #Excepció `KeyError``\n",
    "\n",
    "print(telefons.get('Pau'))  # Com no esta torna None, però no dona error\n",
    "\n",
    "del(telefons['Ana'])      #Elimina la entrada del diccionari\n",
    "print(telefons)\n",
    "\n",
    "noms = ['Xavi', 'Elisa', 'MAria']\n",
    "telefons = dict.fromkeys(noms, None)  # Aquestes son les claus, sense valors\n",
    "print(telefons)\n",
    "#{'Xavi': None, 'Elisa': None, 'MAria': None}\n",
    "\n",
    "print('Xavi' in telefons)\n",
    "\n",
    "# Crear a partir de un json\n",
    "import json\n",
    "jsonstring = '{ \"nom\": \"erik\", \"edat\": 38, \"casat\": true}'\n",
    "persona=json.loads(jsonstring)\n",
    "print(persona)\n",
    "\n",
    "# recuperar les claus i els valors per separat\n",
    "print(persona.keys())\n",
    "print(persona.values())\n",
    "\n",
    "# recuperar els elements\n",
    "for clau,valor in persona.items():\n",
    "    print(clau,\"-\",valor)"
   ]
  },
  {
   "cell_type": "markdown",
   "metadata": {},
   "source": [
    "# Exercici de diccionari\n",
    "\n",
    "Crea una variable `cliente` amb:\n",
    "\n",
    "```\n",
    "nombre: Juan\n",
    "apellidos: Pérez García\n",
    "teléfono \n",
    "   movil: 654789658\n",
    "   fijo: 963789654\n",
    "dirección:\n",
    "    tipo via: calle\n",
    "    numero: 45\n",
    "    puerta: 7\n",
    "numero facturas:\n",
    "    compras: 234/2020, 345/2021, 675/2021, 561/2022\n",
    "    ventas:  456/2020, 564/2021, 768/2021, 345/2022\n",
    "```\n",
    "De l'anterior diccionari mostra la informació següent:\n",
    "\n",
    "- Nom\n",
    "- El telèfon mòbil\n",
    "- El tipus de via\n",
    "- El número de la 3a factura que va vendre\n",
    "- La quantitat de compres que heu fet.\n",
    "- Imprimeix el nom de les claus del primer nivell\n"
   ]
  },
  {
   "cell_type": "code",
   "execution_count": null,
   "metadata": {},
   "outputs": [],
   "source": [
    "# Solució diccionari"
   ]
  },
  {
   "cell_type": "markdown",
   "metadata": {},
   "source": [
    "# Ampliacions\n",
    "\n",
    "Fent servir la variable `client` de l'exercici anterior, fes el següent:\n",
    "\n",
    "- Mostra el text \"Client Important\" si el nombre de compres és més gran que 5 o sinó mostra \"Client Normal\"\n",
    "- Mostra el text \"Client Important\" si el nombre de compres és més gran que 5 , si el nombre de compres és entre 2 i 5 mostra \"Client Normal\" , sinó mostra \"Client poc important\"\n",
    "- Fes que es mostri per pantalla els números del 0 al 999\n",
    "- Fes que es mostri per pantalla els números de l'1 al 1000\n",
    "- Crea un array amb els nombres primers fins al 100, que són 2, 3, 5, 7, 11, 13, 17, 19, 23, 29, 31, 37, 41, 43, 47, 53, 59, 61, 67 , 71, 73, 79, 83, 89, 97\n",
    "Mostra cada número per pantalla.\n",
    "Feu que es mostrin per pantalla el número juntament amb l'ordre que ocupen. Per exemple 4t -> 7 , 6è -> 13\n",
    "Modifica l'exercici anterior de manera que si és el primer nombre primer de l'array, es mostri Primer -> 2 i si és l'últim nombre primer de l'array, es mostri Últim -> 97"
   ]
  },
  {
   "cell_type": "code",
   "execution_count": null,
   "metadata": {},
   "outputs": [],
   "source": [
    "# Solució Ampliacions"
   ]
  }
 ],
 "metadata": {
  "kernelspec": {
   "display_name": "base",
   "language": "python",
   "name": "python3"
  },
  "language_info": {
   "codemirror_mode": {
    "name": "ipython",
    "version": 3
   },
   "file_extension": ".py",
   "mimetype": "text/x-python",
   "name": "python",
   "nbconvert_exporter": "python",
   "pygments_lexer": "ipython3",
   "version": "3.10.10"
  },
  "orig_nbformat": 4
 },
 "nbformat": 4,
 "nbformat_minor": 2
}
